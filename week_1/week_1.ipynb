{
 "cells": [
  {
   "cell_type": "markdown",
   "id": "0ef6959c",
   "metadata": {},
   "source": [
    "## Part 1: APIs\n",
    "\n",
    "### Exercise 1: API Calls"
   ]
  },
  {
   "cell_type": "code",
   "execution_count": null,
   "id": "dbb2cc66",
   "metadata": {},
   "outputs": [
    {
     "name": "stdout",
     "output_type": "stream",
     "text": [
      "https://en.wikipedia.org/w/api.php?action=query&titles=Apple_Inc.&prop=revisions&rvprop=content&format=json\n"
     ]
    }
   ],
   "source": [
    "import urllib3\n",
    "import json\n",
    "\n",
    "http = urllib3.PoolManager()\n",
    "\n",
    "url = \"https://en.wikipedia.org/w/api.php?\"\n",
    "response = http.request(\"GET\", url)\n",
    "html = response.read()\n",
    "action = \"action=query\"\n",
    "title = \"titles=Apple_Inc.\"\n",
    "content = \"prop=revisions&rvprop=content\"\n",
    "dataformat = \"format=json\"\n",
    "\n",
    "query = \"{}{}&{}&{}&{}\".format(url,action,title,content,dataformat)\n",
    "print(query)"
   ]
  }
 ],
 "metadata": {
  "kernelspec": {
   "display_name": ".venv (3.13.7)",
   "language": "python",
   "name": "python3"
  },
  "language_info": {
   "codemirror_mode": {
    "name": "ipython",
    "version": 3
   },
   "file_extension": ".py",
   "mimetype": "text/x-python",
   "name": "python",
   "nbconvert_exporter": "python",
   "pygments_lexer": "ipython3",
   "version": "3.13.7"
  }
 },
 "nbformat": 4,
 "nbformat_minor": 5
}
