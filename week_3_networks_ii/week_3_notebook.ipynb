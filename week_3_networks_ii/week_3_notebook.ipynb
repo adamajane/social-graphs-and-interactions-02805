{
 "cells": [
  {
   "cell_type": "markdown",
   "id": "81a5acbf",
   "metadata": {},
   "source": [
    "# Part 1: Small World Networks\n"
   ]
  },
  {
   "cell_type": "markdown",
   "id": "bdf7138e",
   "metadata": {},
   "source": [
    "## Exercises about chapter 3, sections 3.5-3.10\n",
    "\n",
    "_See personal notes in Obsidian_\n"
   ]
  },
  {
   "cell_type": "markdown",
   "id": "90c42ccb",
   "metadata": {},
   "source": [
    "## Exercises about Watts-Strogatz (WS) model\n"
   ]
  },
  {
   "cell_type": "code",
   "execution_count": 1,
   "id": "52382b6e",
   "metadata": {},
   "outputs": [
    {
     "name": "stdout",
     "output_type": "stream",
     "text": [
      "Shortest path of graph p=0: 37.88\n",
      "Shortest path of graph p=0.1: 6.76\n",
      "Shortest path of graph p=1: 4.34\n"
     ]
    }
   ],
   "source": [
    "import networkx as nx\n",
    "\n",
    "# Network properties\n",
    "N = 300\n",
    "k = 4\n",
    "p_values = [0, 0.1, 1]\n",
    "\n",
    "# Exercise 1.1\n",
    "\n",
    "# Create WS graphs for different p values\n",
    "WS_graphs = {}\n",
    "for p in p_values:\n",
    "    WS_graphs[p] = nx.watts_strogatz_graph(N, k, p)\n",
    "\n",
    "# Calculates shortest path of the 3 graphs\n",
    "for g in WS_graphs:\n",
    "    # print(\n",
    "    #     \"Shortest path of graph with p=\",\n",
    "    #     format(g),\n",
    "    #     \": {:.2f}\".format(nx.average_shortest_path_length(WS_graphs[g])),\n",
    "    #     sep=\"\",\n",
    "    # )\n",
    "    print(\n",
    "        f\"Shortest path of graph p={g}: {nx.average_shortest_path_length(WS_graphs[g]):.2f}\"\n",
    "    )\n",
    "\n",
    "# Exercise 1.3\n",
    "\n",
    "# Extended sweep over p values\n",
    "\"\"\"\n",
    "dense_p_values = [i / 100 for i in range(0, 101)]  # 0.00 ... 1.00\n",
    "ws_path_lengths = {}\n",
    "\n",
    "for p in dense_p_values:\n",
    "    G_tmp = nx.watts_strogatz_graph(N, k, p)\n",
    "    ws_path_lengths[p] = nx.average_shortest_path_length(G_tmp)\n",
    "\n",
    "for p in dense_p_values:\n",
    "    print(f\"p={p:.2f} avg_shortest_path={ws_path_lengths[p]:.4f}\")\n",
    "\"\"\"\n",
    "\n",
    "# Exercsie 1.4\n",
    "\n",
    "# Network properties\n",
    "N_2 = 500\n",
    "k_2 = 4\n",
    "p_2_values = [0, 0.01, 0.03, 0.04, 0.1, 0.2]\n",
    "\n",
    "WS_graphs_2 = {}\n",
    "for p in p_2_values:\n",
    "    WS_graphs_2[p] = [nx.watts_strogatz_graph(N_2, k_2, p) for _ in range(50)]"
   ]
  },
  {
   "cell_type": "markdown",
   "id": "f536d386",
   "metadata": {},
   "source": [
    "# Part 2:\n"
   ]
  },
  {
   "cell_type": "code",
   "execution_count": null,
   "id": "b6f957d9",
   "metadata": {},
   "outputs": [],
   "source": []
  }
 ],
 "metadata": {
  "kernelspec": {
   "display_name": ".venv (3.13.7)",
   "language": "python",
   "name": "python3"
  },
  "language_info": {
   "codemirror_mode": {
    "name": "ipython",
    "version": 3
   },
   "file_extension": ".py",
   "mimetype": "text/x-python",
   "name": "python",
   "nbconvert_exporter": "python",
   "pygments_lexer": "ipython3",
   "version": "3.13.7"
  }
 },
 "nbformat": 4,
 "nbformat_minor": 5
}
