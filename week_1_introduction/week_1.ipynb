{
 "cells": [
  {
   "cell_type": "markdown",
   "id": "0ef6959c",
   "metadata": {},
   "source": [
    "# Part 1: APIs"
   ]
  },
  {
   "cell_type": "markdown",
   "id": "a4248deb",
   "metadata": {},
   "source": [
    "**Exercises:**\n",
    "- Explain in your own words: What is the the difference between the html page and the wiki-source?\n",
    "- What are the various parameters you can set for a query of the wikipedia api?\n",
    "- Write your own little notebook to download wikipedia pages based on the lecture. Download the source for your 4 favorite wikipedia pages."
   ]
  },
  {
   "cell_type": "code",
   "execution_count": 2,
   "id": "dbb2cc66",
   "metadata": {},
   "outputs": [
    {
     "name": "stdout",
     "output_type": "stream",
     "text": [
      "https://en.wikipedia.org/w/api.php?action=query&titles=Apple_Inc.&prop=revisions&rvprop=content&format=json\n"
     ]
    }
   ],
   "source": [
    "import urllib3\n",
    "\n",
    "http = urllib3.PoolManager()\n",
    "\n",
    "# PoolManager instance for HTTP requests\n",
    "url = \"https://en.wikipedia.org/w/api.php?\"\n",
    "response = http.request(\"GET\", url)\n",
    "html = response.read()\n",
    "\n",
    "# API parameters\n",
    "action = \"action=query\"\n",
    "title = \"titles=Apple_Inc.\"\n",
    "content = \"prop=revisions&rvprop=content\"\n",
    "dataformat = \"format=json\"\n",
    "\n",
    "# Query string using f-string\n",
    "query = f\"{url}{action}&{title}&{content}&{dataformat}\"\n",
    "# Query string using format()\n",
    "query = \"{}{}&{}&{}&{}\".format(url, action, title, content, dataformat)\n",
    "\n",
    "print(query)"
   ]
  },
  {
   "cell_type": "code",
   "execution_count": 4,
   "id": "502bc569",
   "metadata": {},
   "outputs": [
    {
     "name": "stdout",
     "output_type": "stream",
     "text": [
      "Status code: 200\n",
      "To see the JSON, uncomment the line above\n"
     ]
    }
   ],
   "source": [
    "import json\n",
    "import requests\n",
    "\n",
    "# Headers copied from course notebook\n",
    "headers = {\"User-Agent\": \"MyWikipediaClient/1.0 (example@example.com)\"}\n",
    "\n",
    "wiki_response = requests.get(query, headers=headers)\n",
    "print(\"Status code:\", wiki_response.status_code)\n",
    "wiki_text = wiki_response.content\n",
    "\n",
    "# json.loads(wiki_text)\n",
    "print(\"To see the JSON, uncomment the line above\")"
   ]
  },
  {
   "cell_type": "markdown",
   "id": "9d831655",
   "metadata": {},
   "source": [
    "# Part 2: Basic Description of Networks"
   ]
  },
  {
   "cell_type": "markdown",
   "id": "df678ecf",
   "metadata": {},
   "source": [
    "**Activities:**\n",
    "- **Reading**\n",
    "  - Chapter 1 in Network Science\n",
    "- **Exercises**\n",
    "  - List three different real networks and state the nodes and links for each of them.\n",
    "  - Tell us of the network you are personally most interested in (a fourth one). Address the following questions:\n",
    "    - What are its nodes and links?\n",
    "    - How large is it?\n",
    "    - Can be mapped out?\n",
    "    - Does it evolve over time?\n",
    "    - Are there processes occurring ON the network? (information spreading, for example)\n",
    "    - Why do you care about it?\n",
    "  - In your view what would be the area where network science could have the biggest impact in the next decade? Explain your answer - and base it on the text in the book.\n"
   ]
  },
  {
   "cell_type": "markdown",
   "id": "3318e4ef",
   "metadata": {},
   "source": [
    "# Part 3: The NetworkX Library"
   ]
  },
  {
   "cell_type": "markdown",
   "id": "67c1ae0d",
   "metadata": {},
   "source": [
    "**Exercises:**\n",
    "- Go to the NetworkX project's tutorial page. The goal of this exercise is to create your own Notebook that contains the entire tutorial. You're free to add your own (e.g. shorter) comments in place of the ones in the official tutorial - and change the code to make it your own where ever it makes sense"
   ]
  },
  {
   "cell_type": "code",
   "execution_count": null,
   "id": "2b0c881d",
   "metadata": {},
   "outputs": [],
   "source": [
    "import networkx as nx\n",
    "import matplotlib.pyplot as plt\n",
    "\n",
    "\n",
    "G = nx.Graph()\n",
    "\n",
    "G.add_node(1)\n",
    "\n",
    "G.add_nodes_from([2, 3])\n"
   ]
  }
 ],
 "metadata": {
  "kernelspec": {
   "display_name": ".venv (3.13.7)",
   "language": "python",
   "name": "python3"
  },
  "language_info": {
   "codemirror_mode": {
    "name": "ipython",
    "version": 3
   },
   "file_extension": ".py",
   "mimetype": "text/x-python",
   "name": "python",
   "nbconvert_exporter": "python",
   "pygments_lexer": "ipython3",
   "version": "3.13.7"
  }
 },
 "nbformat": 4,
 "nbformat_minor": 5
}
